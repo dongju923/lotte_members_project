{
 "cells": [
  {
   "cell_type": "code",
   "execution_count": 1,
   "metadata": {},
   "outputs": [],
   "source": [
    "import pandas as pd\n",
    "import numpy as np"
   ]
  },
  {
   "cell_type": "code",
   "execution_count": 2,
   "metadata": {},
   "outputs": [],
   "source": [
    "purchase_info = pd.read_pickle(\"./how_to_make/purchase.pkl\")\n",
    "person_info = pd.read_csv(\"./dataset/LPOINT_BIG_COMP_01_DEMO.csv\", low_memory=False)"
   ]
  },
  {
   "cell_type": "code",
   "execution_count": 121,
   "metadata": {},
   "outputs": [],
   "source": [
    "# 추천시스템 적용할 cust입력\n",
    "person_id = \"M355489415\"\n",
    "# person_info 데이터에서 person_id를 적용\n",
    "cust_info = person_info[person_info['cust'] == person_id]\n",
    "# 성별과 나이를 문자열로 추출\n",
    "gender = cust_info['ma_fem_dv'].values[0]\n",
    "age = cust_info['ages'].values[0]\n",
    "# person_id가 일치하는 사람이 많이 구매한 물품 3개\n",
    "perfer_purchase = purchase_info[purchase_info['cust'] == person_id].sort_values(['buy_ct'], ascending=False).drop_duplicates(['pd_nm'])['pd_nm'][:3].values"
   ]
  },
  {
   "cell_type": "code",
   "execution_count": 114,
   "metadata": {},
   "outputs": [],
   "source": [
    "# 비교할 같은 성별과 나이의 모든 사람의 cust를 추출\n",
    "other_person = person_info[(person_info['ma_fem_dv'] == gender) & (person_info['ages'] == age)]['cust'].values\n",
    "# 모든 구매내역에서 other_person에 저장된 값만 추출\n",
    "other_person_goods = purchase_info[purchase_info['cust'].isin(other_person)][['pd_c','pd_nm','clac_hlv_nm', 'clac_mcls_nm']].drop_duplicates(['pd_nm']).reset_index()"
   ]
  },
  {
   "cell_type": "code",
   "execution_count": 115,
   "metadata": {},
   "outputs": [],
   "source": [
    "# other_person_goods에서 중복값을 뺀 데이터로 코사인 유사도 측정\n",
    "from sklearn.feature_extraction.text import CountVectorizer\n",
    "count_vector = CountVectorizer(ngram_range=(1,3))\n",
    "c_vector_genres = count_vector.fit_transform(other_person_goods['clac_mcls_nm'])\n",
    "from sklearn.metrics.pairwise import cosine_similarity\n",
    "genres_cosine = cosine_similarity(c_vector_genres,c_vector_genres).argsort()[:,::-1]"
   ]
  },
  {
   "cell_type": "code",
   "execution_count": 127,
   "metadata": {},
   "outputs": [],
   "source": [
    "# 추천리스트를 뽑아주는 함수\n",
    "def get_recommend_movie_list(df, goods_name, top=4):\n",
    "    target_movie_index = df[df['pd_nm'] == goods_name].index.values\n",
    "    sim_index = genres_cosine[target_movie_index, :top].reshape(-1)\n",
    "    sim_index = sim_index[sim_index != target_movie_index]\n",
    "    result = df.iloc[sim_index]\n",
    "    return result['pd_nm']"
   ]
  },
  {
   "cell_type": "code",
   "execution_count": 129,
   "metadata": {},
   "outputs": [
    {
     "name": "stdout",
     "output_type": "stream",
     "text": [
      "구매 상품: 모나카\n",
      "추천상품: \n",
      "227     컵아이스크림\n",
      "193         얼음\n",
      "419    튜브아이스크림\n",
      "Name: pd_nm, dtype: object\n",
      "구매 상품: 바아이스크림\n",
      "추천상품: \n",
      "196        모나카\n",
      "227     컵아이스크림\n",
      "193         얼음\n",
      "419    튜브아이스크림\n",
      "Name: pd_nm, dtype: object\n",
      "구매 상품: 스포츠음료\n",
      "추천상품: \n",
      "1366     식이섬유음료\n",
      "260      숙취해소음료\n",
      "1078       한방음료\n",
      "752     기타기능성음료\n",
      "Name: pd_nm, dtype: object\n"
     ]
    }
   ],
   "source": [
    "for i in perfer_purchase:\n",
    "    print(f\"구매 상품: {i}\")\n",
    "    print(\"추천상품: \")\n",
    "    print(get_recommend_movie_list(other_person_goods, goods_name=i))"
   ]
  }
 ],
 "metadata": {
  "kernelspec": {
   "display_name": "Python 3.9.7 ('base')",
   "language": "python",
   "name": "python3"
  },
  "language_info": {
   "codemirror_mode": {
    "name": "ipython",
    "version": 3
   },
   "file_extension": ".py",
   "mimetype": "text/x-python",
   "name": "python",
   "nbconvert_exporter": "python",
   "pygments_lexer": "ipython3",
   "version": "3.9.7"
  },
  "orig_nbformat": 4,
  "vscode": {
   "interpreter": {
    "hash": "b9861c8ed0ba362d24cddf7735e28d2aae1a5889568a77dfb6d86db0d615a135"
   }
  }
 },
 "nbformat": 4,
 "nbformat_minor": 2
}
