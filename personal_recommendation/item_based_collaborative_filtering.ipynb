{
 "cells": [
  {
   "cell_type": "code",
   "execution_count": 43,
   "metadata": {},
   "outputs": [],
   "source": [
    "# 모듈 import\n",
    "import pandas as pd\n",
    "import numpy as np\n",
    "from sklearn.metrics.pairwise import cosine_similarity"
   ]
  },
  {
   "cell_type": "code",
   "execution_count": 72,
   "metadata": {},
   "outputs": [],
   "source": [
    "# 데이터 로드\n",
    "purchase_info = pd.read_pickle(\"./how_to_make/purchase.pickle\")\n",
    "person_info = pd.read_csv(\"./dataset/LPOINT_BIG_COMP_01_DEMO.csv\", low_memory=False)\n",
    "goods_info = pd.read_csv(\"./dataset/LPOINT_BIG_COMP_04_PD_CLAC.csv\", low_memory = False)"
   ]
  },
  {
   "cell_type": "code",
   "execution_count": 73,
   "metadata": {},
   "outputs": [],
   "source": [
    "# cust별로 id 부여\n",
    "person_info['user_id'] = [i for i in range(1,29914)]"
   ]
  },
  {
   "cell_type": "code",
   "execution_count": 83,
   "metadata": {},
   "outputs": [],
   "source": [
    "# 사용자가 구매한 품목의 합을 구한 데이터\n",
    "purchase = purchase_info[['cust','pd_c', 'buy_ct','pd_nm', 'clac_mcls_nm']]\n",
    "purchase = pd.merge(left=purchase, right=person_info, how='inner', on='cust')[['pd_c', 'buy_ct','pd_nm', 'user_id','clac_mcls_nm']]\n",
    "rating_data = purchase.groupby(['user_id','pd_c']).sum().reset_index()\n",
    "rating_data"
   ]
  },
  {
   "cell_type": "code",
   "execution_count": 80,
   "metadata": {},
   "outputs": [],
   "source": [
    "# 물품 데이터\n",
    "goods_data = goods_info[['pd_c','pd_nm','clac_mcls_nm']]\n",
    "goods_data"
   ]
  },
  {
   "cell_type": "code",
   "execution_count": 84,
   "metadata": {},
   "outputs": [],
   "source": [
    "# 데이터 합침\n",
    "user_goods_rating = pd.merge(rating_data, goods_data, on='pd_c')\n",
    "user_goods_rating"
   ]
  },
  {
   "cell_type": "code",
   "execution_count": 86,
   "metadata": {},
   "outputs": [],
   "source": [
    "# 아이템 기반 필터링이므로 index는 품목, columns는 user_id\n",
    "goods_user_rating = user_goods_rating.pivot_table('buy_ct', index='pd_nm', columns='user_id')\n",
    "goods_user_rating.fillna(0,inplace=True)\n",
    "goods_user_rating"
   ]
  },
  {
   "cell_type": "code",
   "execution_count": 91,
   "metadata": {},
   "outputs": [
    {
     "data": {
      "text/plain": [
       "array([[1.        , 0.04279799, 0.01503699, ..., 0.        , 0.        ,\n",
       "        0.        ],\n",
       "       [0.04279799, 1.        , 0.01593131, ..., 0.02464108, 0.00278621,\n",
       "        0.        ],\n",
       "       [0.01503699, 0.01593131, 1.        , ..., 0.02896965, 0.00496995,\n",
       "        0.00517288],\n",
       "       ...,\n",
       "       [0.        , 0.02464108, 0.02896965, ..., 1.        , 0.        ,\n",
       "        0.        ],\n",
       "       [0.        , 0.00278621, 0.00496995, ..., 0.        , 1.        ,\n",
       "        0.        ],\n",
       "       [0.        , 0.        , 0.00517288, ..., 0.        , 0.        ,\n",
       "        1.        ]])"
      ]
     },
     "execution_count": 91,
     "metadata": {},
     "output_type": "execute_result"
    }
   ],
   "source": [
    "# 코사인 유사도 구함\n",
    "item_based_collabor = cosine_similarity(goods_user_rating)\n",
    "item_based_collabor = pd.DataFrame(data = item_based_collabor, index=goods_user_rating.index, columns = goods_user_rating.index)\n",
    "item_based_collabor"
   ]
  },
  {
   "cell_type": "code",
   "execution_count": 100,
   "metadata": {},
   "outputs": [],
   "source": [
    "# 추천해주는 함수\n",
    "def get_item_based_collabor(goods_name):\n",
    "    return item_based_collabor[goods_name].sort_values(ascending=False)[:6]"
   ]
  },
  {
   "cell_type": "code",
   "execution_count": 105,
   "metadata": {},
   "outputs": [
    {
     "data": {
      "text/plain": [
       "pd_nm\n",
       "남성향수         1.000000\n",
       "립스틱/립라이너     0.164011\n",
       "여성향수         0.109969\n",
       "수입소고기선물세트    0.092188\n",
       "스포츠시계        0.089250\n",
       "선크림류         0.069419\n",
       "Name: 남성향수, dtype: float64"
      ]
     },
     "execution_count": 105,
     "metadata": {},
     "output_type": "execute_result"
    }
   ],
   "source": [
    "get_item_based_collabor('남성향수')"
   ]
  }
 ],
 "metadata": {
  "kernelspec": {
   "display_name": "Python 3.9.7 ('base')",
   "language": "python",
   "name": "python3"
  },
  "language_info": {
   "codemirror_mode": {
    "name": "ipython",
    "version": 3
   },
   "file_extension": ".py",
   "mimetype": "text/x-python",
   "name": "python",
   "nbconvert_exporter": "python",
   "pygments_lexer": "ipython3",
   "version": "3.9.7"
  },
  "orig_nbformat": 4,
  "vscode": {
   "interpreter": {
    "hash": "b9861c8ed0ba362d24cddf7735e28d2aae1a5889568a77dfb6d86db0d615a135"
   }
  }
 },
 "nbformat": 4,
 "nbformat_minor": 2
}
