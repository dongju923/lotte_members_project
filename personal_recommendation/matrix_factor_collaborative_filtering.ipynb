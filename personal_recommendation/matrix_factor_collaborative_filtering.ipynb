{
 "cells": [
  {
   "cell_type": "code",
   "execution_count": 70,
   "metadata": {},
   "outputs": [],
   "source": [
    "# 모듈 import\n",
    "import pandas as pd\n",
    "import numpy as np\n",
    "from scipy.sparse.linalg import svds"
   ]
  },
  {
   "cell_type": "code",
   "execution_count": 2,
   "metadata": {},
   "outputs": [],
   "source": [
    "# 데이터 로드\n",
    "purchase_info = pd.read_pickle(\"./how_to_make/purchase.pickle\")\n",
    "person_info = pd.read_csv(\"./dataset/LPOINT_BIG_COMP_01_DEMO.csv\", low_memory=False)\n",
    "goods_info = pd.read_csv(\"./dataset/LPOINT_BIG_COMP_04_PD_CLAC.csv\", low_memory = False)"
   ]
  },
  {
   "cell_type": "code",
   "execution_count": 3,
   "metadata": {},
   "outputs": [],
   "source": [
    "# cust별로 id 부여\n",
    "person_info['user_id'] = [i for i in range(1,29914)]"
   ]
  },
  {
   "cell_type": "code",
   "execution_count": 31,
   "metadata": {},
   "outputs": [
    {
     "data": {
      "text/html": [
       "<div>\n",
       "<style scoped>\n",
       "    .dataframe tbody tr th:only-of-type {\n",
       "        vertical-align: middle;\n",
       "    }\n",
       "\n",
       "    .dataframe tbody tr th {\n",
       "        vertical-align: top;\n",
       "    }\n",
       "\n",
       "    .dataframe thead th {\n",
       "        text-align: right;\n",
       "    }\n",
       "</style>\n",
       "<table border=\"1\" class=\"dataframe\">\n",
       "  <thead>\n",
       "    <tr style=\"text-align: right;\">\n",
       "      <th></th>\n",
       "      <th>user_id</th>\n",
       "      <th>pd_c</th>\n",
       "      <th>buy_ct</th>\n",
       "    </tr>\n",
       "  </thead>\n",
       "  <tbody>\n",
       "    <tr>\n",
       "      <th>0</th>\n",
       "      <td>1</td>\n",
       "      <td>PD0116</td>\n",
       "      <td>2</td>\n",
       "    </tr>\n",
       "    <tr>\n",
       "      <th>1</th>\n",
       "      <td>1</td>\n",
       "      <td>PD0169</td>\n",
       "      <td>1</td>\n",
       "    </tr>\n",
       "    <tr>\n",
       "      <th>2</th>\n",
       "      <td>1</td>\n",
       "      <td>PD0178</td>\n",
       "      <td>1</td>\n",
       "    </tr>\n",
       "    <tr>\n",
       "      <th>3</th>\n",
       "      <td>1</td>\n",
       "      <td>PD0204</td>\n",
       "      <td>3</td>\n",
       "    </tr>\n",
       "    <tr>\n",
       "      <th>4</th>\n",
       "      <td>1</td>\n",
       "      <td>PD0218</td>\n",
       "      <td>2</td>\n",
       "    </tr>\n",
       "  </tbody>\n",
       "</table>\n",
       "</div>"
      ],
      "text/plain": [
       "   user_id    pd_c  buy_ct\n",
       "0        1  PD0116       2\n",
       "1        1  PD0169       1\n",
       "2        1  PD0178       1\n",
       "3        1  PD0204       3\n",
       "4        1  PD0218       2"
      ]
     },
     "execution_count": 31,
     "metadata": {},
     "output_type": "execute_result"
    }
   ],
   "source": [
    "# 사용자가 구매한 품목의 합을 구한 데이터\n",
    "purchase = purchase_info[['cust','pd_c', 'buy_ct','pd_nm', 'clac_mcls_nm']]\n",
    "purchase = pd.merge(left=purchase, right=person_info, how='inner', on='cust')[['pd_c', 'buy_ct','pd_nm', 'user_id','clac_mcls_nm']]\n",
    "rating_data = purchase.groupby(['user_id','pd_c']).sum().reset_index()\n",
    "rating_data.head(5)"
   ]
  },
  {
   "cell_type": "code",
   "execution_count": 32,
   "metadata": {},
   "outputs": [
    {
     "data": {
      "text/html": [
       "<div>\n",
       "<style scoped>\n",
       "    .dataframe tbody tr th:only-of-type {\n",
       "        vertical-align: middle;\n",
       "    }\n",
       "\n",
       "    .dataframe tbody tr th {\n",
       "        vertical-align: top;\n",
       "    }\n",
       "\n",
       "    .dataframe thead th {\n",
       "        text-align: right;\n",
       "    }\n",
       "</style>\n",
       "<table border=\"1\" class=\"dataframe\">\n",
       "  <thead>\n",
       "    <tr style=\"text-align: right;\">\n",
       "      <th></th>\n",
       "      <th>pd_c</th>\n",
       "      <th>pd_nm</th>\n",
       "    </tr>\n",
       "  </thead>\n",
       "  <tbody>\n",
       "    <tr>\n",
       "      <th>0</th>\n",
       "      <td>PD0001</td>\n",
       "      <td>소파</td>\n",
       "    </tr>\n",
       "    <tr>\n",
       "      <th>1</th>\n",
       "      <td>PD0002</td>\n",
       "      <td>스툴/리빙의자</td>\n",
       "    </tr>\n",
       "    <tr>\n",
       "      <th>2</th>\n",
       "      <td>PD0003</td>\n",
       "      <td>탁자</td>\n",
       "    </tr>\n",
       "    <tr>\n",
       "      <th>3</th>\n",
       "      <td>PD0004</td>\n",
       "      <td>장식장/진열장</td>\n",
       "    </tr>\n",
       "    <tr>\n",
       "      <th>4</th>\n",
       "      <td>PD0005</td>\n",
       "      <td>기타가구</td>\n",
       "    </tr>\n",
       "  </tbody>\n",
       "</table>\n",
       "</div>"
      ],
      "text/plain": [
       "     pd_c    pd_nm\n",
       "0  PD0001       소파\n",
       "1  PD0002  스툴/리빙의자\n",
       "2  PD0003       탁자\n",
       "3  PD0004  장식장/진열장\n",
       "4  PD0005     기타가구"
      ]
     },
     "execution_count": 32,
     "metadata": {},
     "output_type": "execute_result"
    }
   ],
   "source": [
    "# 품목 데이터\n",
    "goods_data = goods_info[['pd_c','pd_nm']]\n",
    "goods_data.head(5)"
   ]
  },
  {
   "cell_type": "code",
   "execution_count": 67,
   "metadata": {},
   "outputs": [],
   "source": [
    "df_user_goods_ratings = rating_data.pivot(index='user_id',columns='pd_c',values='buy_ct').fillna(0)"
   ]
  },
  {
   "cell_type": "code",
   "execution_count": 68,
   "metadata": {},
   "outputs": [],
   "source": [
    "values = df_user_goods_ratings.values\n",
    "user_ratings_mean = np.mean(values, axis=1)\n",
    "values_user_mean = values - user_ratings_mean.reshape(-1,1)"
   ]
  },
  {
   "cell_type": "code",
   "execution_count": 72,
   "metadata": {},
   "outputs": [],
   "source": [
    "U, sigma, Vt = svds(values_user_mean, k=12)\n",
    "sigma = np.diag(sigma)"
   ]
  },
  {
   "cell_type": "code",
   "execution_count": 74,
   "metadata": {},
   "outputs": [],
   "source": [
    "svd_user_predicted_ratings = np.dot(np.dot(U, sigma), Vt) + user_ratings_mean.reshape(-1,1)"
   ]
  },
  {
   "cell_type": "code",
   "execution_count": 75,
   "metadata": {},
   "outputs": [],
   "source": [
    "df_svd_preds = pd.DataFrame(svd_user_predicted_ratings, columns = df_user_goods_ratings.columns)"
   ]
  },
  {
   "cell_type": "code",
   "execution_count": 79,
   "metadata": {},
   "outputs": [],
   "source": [
    "def recommend_movies(df_svd_preds, user_id, goods_data, rating_data, num_recommendations=5):\n",
    "    #현재는 index로 적용이 되어있으므로 user_id - 1\n",
    "    user_row_number = user_id - 1 \n",
    "    # 최종적으로 만든 pred_df에서 사용자 index에 따라 품목 데이터 정렬\n",
    "    sorted_user_predictions = df_svd_preds.iloc[user_row_number].sort_values(ascending=False)\n",
    "    # 원본 평점 데이터에서 user id에 해당하는 데이터 추출. \n",
    "    user_data = rating_data[rating_data['user_id'] == user_id]\n",
    "    # 위에서 뽑은 user_data와 원본 품목 데이터를 합침. \n",
    "    user_history = user_data.merge(goods_data, on = 'pd_c').sort_values(['buy_ct'], ascending=False)\n",
    "    # 원본 품목 데이터에서 사용자가 본 영화 데이터를 제외한 데이터를 추출\n",
    "    recommendations = goods_data[~goods_data['pd_c'].isin(user_history['pd_c'])]\n",
    "    # 사용자의 품목 평점이 높은 순으로 정렬된 데이터와 위 recommendations을 합침. \n",
    "    recommendations = recommendations.merge( pd.DataFrame(sorted_user_predictions).reset_index(), on = 'pd_c')\n",
    "    # 컬럼 이름 바꾸고 정렬해서 return\n",
    "    recommendations = recommendations.rename(columns = {user_row_number: 'Predictions'}).sort_values('Predictions', ascending = False).iloc[:num_recommendations, :]\n",
    "    \n",
    "    return user_history, recommendations"
   ]
  },
  {
   "cell_type": "code",
   "execution_count": 87,
   "metadata": {},
   "outputs": [],
   "source": [
    "already_rated, predictions = recommend_movies(df_svd_preds, 3, goods_data, rating_data, 10)"
   ]
  },
  {
   "cell_type": "code",
   "execution_count": 88,
   "metadata": {},
   "outputs": [
    {
     "data": {
      "text/html": [
       "<div>\n",
       "<style scoped>\n",
       "    .dataframe tbody tr th:only-of-type {\n",
       "        vertical-align: middle;\n",
       "    }\n",
       "\n",
       "    .dataframe tbody tr th {\n",
       "        vertical-align: top;\n",
       "    }\n",
       "\n",
       "    .dataframe thead th {\n",
       "        text-align: right;\n",
       "    }\n",
       "</style>\n",
       "<table border=\"1\" class=\"dataframe\">\n",
       "  <thead>\n",
       "    <tr style=\"text-align: right;\">\n",
       "      <th></th>\n",
       "      <th>pd_c</th>\n",
       "      <th>pd_nm</th>\n",
       "      <th>Predictions</th>\n",
       "    </tr>\n",
       "  </thead>\n",
       "  <tbody>\n",
       "    <tr>\n",
       "      <th>1292</th>\n",
       "      <td>PD1333</td>\n",
       "      <td>일반소주</td>\n",
       "      <td>1.837362</td>\n",
       "    </tr>\n",
       "    <tr>\n",
       "      <th>1137</th>\n",
       "      <td>PD1173</td>\n",
       "      <td>생수</td>\n",
       "      <td>1.314255</td>\n",
       "    </tr>\n",
       "    <tr>\n",
       "      <th>373</th>\n",
       "      <td>PD0381</td>\n",
       "      <td>국산담배</td>\n",
       "      <td>0.722081</td>\n",
       "    </tr>\n",
       "    <tr>\n",
       "      <th>220</th>\n",
       "      <td>PD0223</td>\n",
       "      <td>젤리</td>\n",
       "      <td>0.717599</td>\n",
       "    </tr>\n",
       "    <tr>\n",
       "      <th>404</th>\n",
       "      <td>PD0413</td>\n",
       "      <td>국물용기라면</td>\n",
       "      <td>0.623972</td>\n",
       "    </tr>\n",
       "    <tr>\n",
       "      <th>395</th>\n",
       "      <td>PD0403</td>\n",
       "      <td>국물봉지라면</td>\n",
       "      <td>0.461754</td>\n",
       "    </tr>\n",
       "    <tr>\n",
       "      <th>229</th>\n",
       "      <td>PD0232</td>\n",
       "      <td>일반스낵</td>\n",
       "      <td>0.451239</td>\n",
       "    </tr>\n",
       "    <tr>\n",
       "      <th>1146</th>\n",
       "      <td>PD1184</td>\n",
       "      <td>혼합탄산</td>\n",
       "      <td>0.401188</td>\n",
       "    </tr>\n",
       "    <tr>\n",
       "      <th>1302</th>\n",
       "      <td>PD1343</td>\n",
       "      <td>막걸리</td>\n",
       "      <td>0.399013</td>\n",
       "    </tr>\n",
       "    <tr>\n",
       "      <th>320</th>\n",
       "      <td>PD0328</td>\n",
       "      <td>바아이스크림</td>\n",
       "      <td>0.397817</td>\n",
       "    </tr>\n",
       "  </tbody>\n",
       "</table>\n",
       "</div>"
      ],
      "text/plain": [
       "        pd_c   pd_nm  Predictions\n",
       "1292  PD1333    일반소주     1.837362\n",
       "1137  PD1173      생수     1.314255\n",
       "373   PD0381    국산담배     0.722081\n",
       "220   PD0223      젤리     0.717599\n",
       "404   PD0413  국물용기라면     0.623972\n",
       "395   PD0403  국물봉지라면     0.461754\n",
       "229   PD0232    일반스낵     0.451239\n",
       "1146  PD1184    혼합탄산     0.401188\n",
       "1302  PD1343     막걸리     0.399013\n",
       "320   PD0328  바아이스크림     0.397817"
      ]
     },
     "execution_count": 88,
     "metadata": {},
     "output_type": "execute_result"
    }
   ],
   "source": [
    "predictions"
   ]
  }
 ],
 "metadata": {
  "kernelspec": {
   "display_name": "Python 3 (ipykernel)",
   "language": "python",
   "name": "python3"
  },
  "language_info": {
   "codemirror_mode": {
    "name": "ipython",
    "version": 3
   },
   "file_extension": ".py",
   "mimetype": "text/x-python",
   "name": "python",
   "nbconvert_exporter": "python",
   "pygments_lexer": "ipython3",
   "version": "3.9.7"
  },
  "vscode": {
   "interpreter": {
    "hash": "b9861c8ed0ba362d24cddf7735e28d2aae1a5889568a77dfb6d86db0d615a135"
   }
  }
 },
 "nbformat": 4,
 "nbformat_minor": 2
}
